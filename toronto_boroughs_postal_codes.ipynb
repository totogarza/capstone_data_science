{
 "cells": [
  {
   "cell_type": "code",
   "execution_count": 248,
   "metadata": {},
   "outputs": [],
   "source": [
    "import numpy as np\n",
    "import pandas as pd\n",
    "from lxml import html # Tool for webscraping\n",
    "import requests # HTTP library to load wiki page\n",
    "import re\n",
    "from geopy.geocoders import Nominatim "
   ]
  },
  {
   "cell_type": "markdown",
   "metadata": {},
   "source": [
    "#### Making the request and scraping the data\n",
    "\n",
    "In this part I used __lxml__ to scrape the data from the wiki webpage, I made this request using the __requests__ library"
   ]
  },
  {
   "cell_type": "code",
   "execution_count": 25,
   "metadata": {},
   "outputs": [],
   "source": [
    "page = requests.get('https://en.wikipedia.org/wiki/List_of_postal_codes_of_Canada:_M')\n",
    "tree = html.document_fromstring(page.content)\n",
    "data = tree.cssselect('.wikitable')\n",
    "table = html.document_fromstring(data[0].text_content())\n",
    "\n"
   ]
  },
  {
   "cell_type": "code",
   "execution_count": 336,
   "metadata": {},
   "outputs": [],
   "source": [
    "postal_info = list(filter(None, data[0].text_content().split('\\n'))) # Spliting the raw table data to get a list"
   ]
  },
  {
   "cell_type": "code",
   "execution_count": 337,
   "metadata": {},
   "outputs": [],
   "source": [
    "postal_info_data = postal_info[3:] # Get rid the first row"
   ]
  },
  {
   "cell_type": "markdown",
   "metadata": {},
   "source": [
    "#### Creating the matrix\n",
    "\n",
    "Using reshape on a numpy array that has a list with the Neighborhoods data"
   ]
  },
  {
   "cell_type": "code",
   "execution_count": 338,
   "metadata": {},
   "outputs": [],
   "source": [
    "list_of_neigh = pd.DataFrame(np.array(postal_info_data).reshape((289,3)))"
   ]
  },
  {
   "cell_type": "code",
   "execution_count": 339,
   "metadata": {},
   "outputs": [],
   "source": [
    "list_of_neigh = list_of_neigh.rename(columns={0:'PostalCode', 1:'Borough', 2: 'Neighborhood'}) # Adding column names"
   ]
  },
  {
   "cell_type": "markdown",
   "metadata": {},
   "source": [
    "#### Convertign 'Not assigned' to NaN\n",
    "\n",
    "To later use dataframe.dropna() to remove those unwanted rows"
   ]
  },
  {
   "cell_type": "code",
   "execution_count": 340,
   "metadata": {},
   "outputs": [],
   "source": [
    "def cleanData(x):\n",
    "    if(x == 'Not assigned'):\n",
    "        return np.nan\n",
    "    else:\n",
    "        return x\n",
    "\n",
    "list_of_neigh['Borough'] = list_of_neigh['Borough'].apply(lambda x: cleanData(x))"
   ]
  },
  {
   "cell_type": "markdown",
   "metadata": {},
   "source": [
    "Removing all the rows with NaN "
   ]
  },
  {
   "cell_type": "code",
   "execution_count": 341,
   "metadata": {},
   "outputs": [],
   "source": [
    "list_of_neigh = list_of_neigh.dropna()\n",
    "list_of_neigh = list_of_neigh.reset_index(drop=True)"
   ]
  },
  {
   "cell_type": "code",
   "execution_count": 354,
   "metadata": {},
   "outputs": [],
   "source": [
    "postal_codes = list_of_neigh.groupby('Borough')['PostalCode'].unique()\n",
    "#postal_codes['Central Toronto']"
   ]
  },
  {
   "cell_type": "code",
   "execution_count": 369,
   "metadata": {},
   "outputs": [
    {
     "name": "stderr",
     "output_type": "stream",
     "text": [
      "/usr/local/lib/python3.7/site-packages/ipykernel_launcher.py:7: SettingWithCopyWarning: \n",
      "A value is trying to be set on a copy of a slice from a DataFrame\n",
      "\n",
      "See the caveats in the documentation: http://pandas.pydata.org/pandas-docs/stable/indexing.html#indexing-view-versus-copy\n",
      "  import sys\n",
      "/usr/local/lib/python3.7/site-packages/pandas/core/indexing.py:189: SettingWithCopyWarning: \n",
      "A value is trying to be set on a copy of a slice from a DataFrame\n",
      "\n",
      "See the caveats in the documentation: http://pandas.pydata.org/pandas-docs/stable/indexing.html#indexing-view-versus-copy\n",
      "  self._setitem_with_indexer(indexer, value)\n"
     ]
    }
   ],
   "source": [
    "boroughs = list_of_neigh.groupby('Borough')['Neighborhood'].apply(lambda tags: ','.join(tags))\n",
    "df_boroughs = pd.DataFrame(boroughs).reset_index()\n",
    "#postal_codes.apply(lambda x: print(x))\n",
    "df_boroughs['PostalCode'] = np.nan\n",
    "\n",
    "for ind, item in enumerate(postal_codes):\n",
    "    df_boroughs['PostalCode'][ind] = postal_codes[ind][0]"
   ]
  },
  {
   "cell_type": "code",
   "execution_count": null,
   "metadata": {},
   "outputs": [],
   "source": [
    "# Changes the order of columns\n",
    "reorder = [df_boroughs.columns[-1]] + list(df_boroughs.columns[:-1])"
   ]
  },
  {
   "cell_type": "code",
   "execution_count": 382,
   "metadata": {},
   "outputs": [
    {
     "data": {
      "text/html": [
       "<div>\n",
       "<style scoped>\n",
       "    .dataframe tbody tr th:only-of-type {\n",
       "        vertical-align: middle;\n",
       "    }\n",
       "\n",
       "    .dataframe tbody tr th {\n",
       "        vertical-align: top;\n",
       "    }\n",
       "\n",
       "    .dataframe thead th {\n",
       "        text-align: right;\n",
       "    }\n",
       "</style>\n",
       "<table border=\"1\" class=\"dataframe\">\n",
       "  <thead>\n",
       "    <tr style=\"text-align: right;\">\n",
       "      <th></th>\n",
       "      <th>PostalCode</th>\n",
       "      <th>Borough</th>\n",
       "      <th>Neighborhood</th>\n",
       "    </tr>\n",
       "  </thead>\n",
       "  <tbody>\n",
       "    <tr>\n",
       "      <th>0</th>\n",
       "      <td>M4N</td>\n",
       "      <td>Central Toronto</td>\n",
       "      <td>Lawrence Park,Roselawn,Davisville North,Forest...</td>\n",
       "    </tr>\n",
       "    <tr>\n",
       "      <th>1</th>\n",
       "      <td>M5A</td>\n",
       "      <td>Downtown Toronto</td>\n",
       "      <td>Harbourfront,Regent Park,Ryerson,Garden Distri...</td>\n",
       "    </tr>\n",
       "    <tr>\n",
       "      <th>2</th>\n",
       "      <td>M4E</td>\n",
       "      <td>East Toronto</td>\n",
       "      <td>The Beaches,The Danforth West,Riverdale,The Be...</td>\n",
       "    </tr>\n",
       "    <tr>\n",
       "      <th>3</th>\n",
       "      <td>M4B</td>\n",
       "      <td>East York</td>\n",
       "      <td>Woodbine Gardens,Parkview Hill,Woodbine Height...</td>\n",
       "    </tr>\n",
       "    <tr>\n",
       "      <th>4</th>\n",
       "      <td>M9A</td>\n",
       "      <td>Etobicoke</td>\n",
       "      <td>Islington Avenue,Cloverdale,Islington,Martin G...</td>\n",
       "    </tr>\n",
       "    <tr>\n",
       "      <th>5</th>\n",
       "      <td>M7R</td>\n",
       "      <td>Mississauga</td>\n",
       "      <td>Canada Post Gateway Processing Centre</td>\n",
       "    </tr>\n",
       "    <tr>\n",
       "      <th>6</th>\n",
       "      <td>M3A</td>\n",
       "      <td>North York</td>\n",
       "      <td>Parkwoods,Victoria Village,Lawrence Heights,La...</td>\n",
       "    </tr>\n",
       "    <tr>\n",
       "      <th>7</th>\n",
       "      <td>M7A</td>\n",
       "      <td>Queen's Park</td>\n",
       "      <td>Queen's Park</td>\n",
       "    </tr>\n",
       "    <tr>\n",
       "      <th>8</th>\n",
       "      <td>M1B</td>\n",
       "      <td>Scarborough</td>\n",
       "      <td>Rouge,Malvern,Highland Creek,Rouge Hill,Port U...</td>\n",
       "    </tr>\n",
       "    <tr>\n",
       "      <th>9</th>\n",
       "      <td>M6H</td>\n",
       "      <td>West Toronto</td>\n",
       "      <td>Dovercourt Village,Dufferin,Little Portugal,Tr...</td>\n",
       "    </tr>\n",
       "    <tr>\n",
       "      <th>10</th>\n",
       "      <td>M6C</td>\n",
       "      <td>York</td>\n",
       "      <td>Humewood-Cedarvale,Caledonia-Fairbanks,Del Ray...</td>\n",
       "    </tr>\n",
       "  </tbody>\n",
       "</table>\n",
       "</div>"
      ],
      "text/plain": [
       "   PostalCode           Borough  \\\n",
       "0         M4N   Central Toronto   \n",
       "1         M5A  Downtown Toronto   \n",
       "2         M4E      East Toronto   \n",
       "3         M4B         East York   \n",
       "4         M9A         Etobicoke   \n",
       "5         M7R       Mississauga   \n",
       "6         M3A        North York   \n",
       "7         M7A      Queen's Park   \n",
       "8         M1B       Scarborough   \n",
       "9         M6H      West Toronto   \n",
       "10        M6C              York   \n",
       "\n",
       "                                         Neighborhood  \n",
       "0   Lawrence Park,Roselawn,Davisville North,Forest...  \n",
       "1   Harbourfront,Regent Park,Ryerson,Garden Distri...  \n",
       "2   The Beaches,The Danforth West,Riverdale,The Be...  \n",
       "3   Woodbine Gardens,Parkview Hill,Woodbine Height...  \n",
       "4   Islington Avenue,Cloverdale,Islington,Martin G...  \n",
       "5               Canada Post Gateway Processing Centre  \n",
       "6   Parkwoods,Victoria Village,Lawrence Heights,La...  \n",
       "7                                        Queen's Park  \n",
       "8   Rouge,Malvern,Highland Creek,Rouge Hill,Port U...  \n",
       "9   Dovercourt Village,Dufferin,Little Portugal,Tr...  \n",
       "10  Humewood-Cedarvale,Caledonia-Fairbanks,Del Ray...  "
      ]
     },
     "execution_count": 382,
     "metadata": {},
     "output_type": "execute_result"
    }
   ],
   "source": [
    "df_boroughs = df_boroughs[reorder]\n",
    "# Set 'Not assigned' to the neighborhood borough\n",
    "for ind, item in enumerate(df_boroughs['Neighborhood']):\n",
    "    if(item == 'Not assigned'):\n",
    "        df_boroughs['Neighborhood'][ind] = df_boroughs['Borough'][ind]\n",
    "    \n",
    "df_boroughs"
   ]
  },
  {
   "cell_type": "code",
   "execution_count": 383,
   "metadata": {},
   "outputs": [
    {
     "data": {
      "text/plain": [
       "(11, 3)"
      ]
     },
     "execution_count": 383,
     "metadata": {},
     "output_type": "execute_result"
    }
   ],
   "source": [
    "df_boroughs.shape"
   ]
  }
 ],
 "metadata": {
  "kernelspec": {
   "display_name": "Python 3",
   "language": "python",
   "name": "python3"
  },
  "language_info": {
   "codemirror_mode": {
    "name": "ipython",
    "version": 3
   },
   "file_extension": ".py",
   "mimetype": "text/x-python",
   "name": "python",
   "nbconvert_exporter": "python",
   "pygments_lexer": "ipython3",
   "version": "3.7.0"
  }
 },
 "nbformat": 4,
 "nbformat_minor": 2
}
